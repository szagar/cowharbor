{
 "cells": [
  {
   "cell_type": "markdown",
   "metadata": {},
   "source": [
    "For those of you who have never used a jupyter notebook, there a plenty of tutorials and sample notebooks available - just google.\n",
    "The first few cells contain the source code, Skip below to **Use Cases** to get a feel for what the code provides.  To get a feel for the code that follows and run it yourself, just press shift-enter to execute the code cells below. Cells are either markdown text or python code. "
   ]
  },
  {
   "cell_type": "markdown",
   "metadata": {},
   "source": [
    "The cell below imports required modules."
   ]
  },
  {
   "cell_type": "code",
   "execution_count": 1,
   "metadata": {},
   "outputs": [],
   "source": [
    "import math\n",
    "from random import randint\n",
    "from datetime import datetime, timedelta\n",
    "import pandas as pd\n",
    "import pprint"
   ]
  },
  {
   "cell_type": "markdown",
   "metadata": {},
   "source": [
    "The following cell defines DataBlock, the python class that provides functions to calculate the dates for the D&P process and backtesting."
   ]
  },
  {
   "cell_type": "code",
   "execution_count": 2,
   "metadata": {},
   "outputs": [],
   "source": [
    "class DataBlock:\n",
    "    def __init__(self, bt_start_dt=None, bt_end_dt=None, bt_years=10, oos_months=3, num_blocks=10):\n",
    "        self._bt_start_dt = bt_start_dt\n",
    "        self._bt_end_dt = bt_end_dt\n",
    "        self._bt_years = bt_years\n",
    "        self._oos_months = oos_months\n",
    "        self._num_blocks = num_blocks\n",
    "\n",
    "        self.initialize()\n",
    "\n",
    "    def initialize(self):\n",
    "        if not self._bt_start_dt:\n",
    "            if not self._bt_end_dt:\n",
    "                self._bt_end_dt = (datetime.today() - self._oos_months*timedelta(days=30))\n",
    "            else:\n",
    "                self._bt_end_dt = datetime.strptime(self._bt_end_dt, '%m/%d/%Y')\n",
    "            self._bt_start_dt = self._bt_end_dt - self._bt_years*timedelta(days=365)\n",
    "        elif not self._bt_end_dt:\n",
    "            self._bt_start_dt = datetime.strptime(self._bt_start_dt, '%m/%d/%Y')\n",
    "            if self._oos_months:\n",
    "                self._bt_end_dt = (datetime.today() - self._oos_months*timedelta(days=30))\n",
    "            elif self._bt_years:\n",
    "                self._bt_end_dt = (self._bt_start_dt + self._bt_years*timedelta(days=365))\n",
    "            if self._bt_end_dt > datetime.today():\n",
    "                self._bt_end_dt = datetime.today()\n",
    "\n",
    "    def pick_a_block(self, min_block=1):\n",
    "        return randint(min_block, self._num_blocks)\n",
    "    \n",
    "    def set_dates(self, sess_start, sess_end, bars_back, data_block, entry_tf, use_daily):\n",
    "        date_format = \"%m/%d/%Y\"\n",
    "        bars_per_session = int((self.hhmm2mins(sess_end) - self.hhmm2mins(sess_start)) / entry_tf)\n",
    "        if use_daily:\n",
    "            days_back = bars_back\n",
    "        elif not use_daily:\n",
    "            days_back = math.ceil(bars_back / bars_per_session)\n",
    "\n",
    "        seg_size = int((self._bt_end_dt - self._bt_start_dt).days / self._num_blocks)\n",
    "        start_dt = self._bt_start_dt + pd.DateOffset((data_block - 1) * seg_size)\n",
    "        pre_start_dt = start_dt - pd.DateOffset(round((days_back / 5) * 7))\n",
    "        end_dt = start_dt + pd.DateOffset(seg_size)\n",
    "        return {\n",
    "            \"pre_start_dt\": pre_start_dt.strftime(date_format),\n",
    "            \"start_dt\":     start_dt.strftime(date_format),\n",
    "            \"end_dt\":       end_dt.strftime(date_format),\n",
    "            \"bt_start_dt\":  self._bt_start_dt.strftime(date_format),\n",
    "            \"bt_end_dt\":    self._bt_end_dt.strftime(date_format),\n",
    "            \"bars_per_session\": bars_per_session,\n",
    "            \"days_back\": days_back,\n",
    "            \"session_start_time\": sess_start,\n",
    "            \"session_end_time\": sess_end,\n",
    "            \"use_daily\": use_daily,\n",
    "            \"data_block\": data_block,\n",
    "            \"bt_duration\":   round((self._bt_end_dt - self._bt_start_dt).days/365,2),\n",
    "            \"block_duration\":  seg_size,\n",
    "        }\n",
    "\n",
    "    #### Private Methods\n",
    "    def hhmm2mins(self, hhmm):\n",
    "        i = int(hhmm)\n",
    "        n_hrs = i // 100\n",
    "        n_mins = i % 100\n",
    "        return n_hrs * 60 + n_mins\n"
   ]
  },
  {
   "cell_type": "markdown",
   "metadata": {},
   "source": [
    "## **Use Cases:**  The following cells provide examples of usage.  Please note, this code was pulled from by automation framework, and I have a single use case, but implemented several scenaries for requesting dates.  So, not all end-points have been used(tested) much"
   ]
  },
  {
   "cell_type": "markdown",
   "metadata": {},
   "source": [
    "### Case:  provide backtest start date and the number of monthts prior to current date to leave of OOS testing.\n",
    "  * instantiate class with start_dt and number of months\n",
    "  * select a random block number"
   ]
  },
  {
   "cell_type": "code",
   "execution_count": 3,
   "metadata": {},
   "outputs": [
    {
     "name": "stdout",
     "output_type": "stream",
     "text": [
      "Block number is 7\n"
     ]
    }
   ],
   "source": [
    "dblock = DataBlock(bt_start_dt='1/1/2007',oos_months=6)\n",
    "dblock_num = dblock.pick_a_block()\n",
    "print(f\"Block number is {dblock_num}\")"
   ]
  },
  {
   "cell_type": "markdown",
   "metadata": {},
   "source": [
    "  * method **set_dates()** returns D&P dates, backtesting dates and session info"
   ]
  },
  {
   "cell_type": "code",
   "execution_count": null,
   "metadata": {},
   "outputs": [],
   "source": [
    "    dblock.set_dates(\n",
    "            sess_start=930,\n",
    "            sess_end=1530,\n",
    "            bars_back=200,\n",
    "            data_block=dblock_num,\n",
    "            entry_tf=60,\n",
    "            use_daily=True\n",
    "        )"
   ]
  },
  {
   "cell_type": "markdown",
   "metadata": {},
   "source": [
    "### Case:  provide backtest End Date and the number of monthts for OOS testing.\n",
    "  * note: defaults to 10 years of backtesting data"
   ]
  },
  {
   "cell_type": "code",
   "execution_count": null,
   "metadata": {},
   "outputs": [],
   "source": [
    "dblock = DataBlock(bt_end_dt='11/1/2020',oos_months=6)\n",
    "dblock.set_dates(\n",
    "            sess_start=930,\n",
    "            sess_end=1530,\n",
    "            bars_back=200,\n",
    "            data_block=6,\n",
    "            entry_tf=60,\n",
    "            use_daily=True\n",
    "        )\n"
   ]
  },
  {
   "cell_type": "markdown",
   "metadata": {},
   "source": [
    "### Case:  provide OOS Months and BackTest Years"
   ]
  },
  {
   "cell_type": "code",
   "execution_count": null,
   "metadata": {},
   "outputs": [],
   "source": [
    "dblock = DataBlock(oos_months=3,bt_years=11)\n",
    "dblock.set_dates(\n",
    "            sess_start=930,\n",
    "            sess_end=1530,\n",
    "            bars_back=200,\n",
    "            data_block=6,\n",
    "            entry_tf=60,\n",
    "            use_daily=True\n",
    "        )\n"
   ]
  },
  {
   "cell_type": "markdown",
   "metadata": {},
   "source": [
    "### Case:  Use pick_a_block to get random block number >=6, system defaults (10 years backtesting, 6 months OOS)"
   ]
  },
  {
   "cell_type": "code",
   "execution_count": null,
   "metadata": {},
   "outputs": [],
   "source": [
    "dblock = DataBlock(bt_start_dt='1/1/2007',oos_months=6)\n",
    "dblock_num = dblock.pick_a_block(6)\n",
    "print(f\"Block number is {dblock_num}\")\n",
    "dblock.set_dates(\n",
    "            sess_start=930,\n",
    "            sess_end=1530,\n",
    "            bars_back=200,\n",
    "            data_block=dblock_num,\n",
    "            entry_tf=60,\n",
    "            use_daily=True\n",
    "        )\n"
   ]
  },
  {
   "cell_type": "markdown",
   "metadata": {},
   "source": [
    "### Case:  Use 6 data blocks instead of the standard 10"
   ]
  },
  {
   "cell_type": "code",
   "execution_count": null,
   "metadata": {},
   "outputs": [],
   "source": [
    "dblock = DataBlock(num_blocks=6)\n",
    "dblock_num = dblock.pick_a_block(3)\n",
    "print(f\"data block number = {dblock_num}\")\n",
    "dblock.set_dates(\n",
    "            sess_start=930,\n",
    "            sess_end=1530,\n",
    "            bars_back=200,\n",
    "            data_block=1,\n",
    "            entry_tf=60,\n",
    "            use_daily=True\n",
    "        )\n"
   ]
  },
  {
   "cell_type": "code",
   "execution_count": null,
   "metadata": {},
   "outputs": [],
   "source": []
  }
 ],
 "metadata": {
  "kernelspec": {
   "display_name": "Python 3",
   "language": "python",
   "name": "python3"
  },
  "language_info": {
   "codemirror_mode": {
    "name": "ipython",
    "version": 3
   },
   "file_extension": ".py",
   "mimetype": "text/x-python",
   "name": "python",
   "nbconvert_exporter": "python",
   "pygments_lexer": "ipython3",
   "version": "3.7.7"
  }
 },
 "nbformat": 4,
 "nbformat_minor": 4
}
