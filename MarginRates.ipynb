{
 "cells": [
  {
   "cell_type": "markdown",
   "metadata": {},
   "source": [
    "## This webscraping script grabs current margin rates from the TradeStation website, loads it into a dataframe, converts strings to numbers, and provides interface to access data.\n",
    "\n",
    "## Below is a screen shot of a populated dataframe.  The code below can be executed by typing shift-return in each code cell below.  Code to export data to excel is provided, but will not work from a shared resource like Binder, must run locally."
   ]
  },
  {
   "cell_type": "markdown",
   "metadata": {},
   "source": [
    "![title](margin_rates_df.png)"
   ]
  },
  {
   "cell_type": "markdown",
   "metadata": {},
   "source": []
  },
  {
   "cell_type": "code",
   "execution_count": 1,
   "metadata": {},
   "outputs": [],
   "source": [
    "from gazpacho import get, Soup\n",
    "import pandas as pd\n",
    "#pd.options.mode.chained_assignment = None  # default='warn'\n",
    "#pd.set_option(\"display.precision\", 0)"
   ]
  },
  {
   "cell_type": "code",
   "execution_count": 2,
   "metadata": {},
   "outputs": [],
   "source": [
    "url = 'https://www.tradestation.com/pricing/futures-margin-requirements/'\n",
    "response = get(url)\n",
    "soup = Soup(response)\n",
    "df = pd.read_html(str(soup.find('table')))[0]"
   ]
  },
  {
   "cell_type": "code",
   "execution_count": 3,
   "metadata": {},
   "outputs": [],
   "source": [
    "df.rename(columns={'Symbol Root': 'Symbol', 'Initial Margin': 'InitialMargin', 'Maint. Margin': 'MaintMargin','Day Trading Rate': 'DayTradeRate'}, inplace=True)"
   ]
  },
  {
   "cell_type": "code",
   "execution_count": 4,
   "metadata": {},
   "outputs": [],
   "source": [
    "df1 = df[df['InitialMargin'].str.startswith('$')].copy(deep=False)\n",
    "df1.set_index('Symbol',inplace=True)"
   ]
  },
  {
   "cell_type": "code",
   "execution_count": 5,
   "metadata": {},
   "outputs": [],
   "source": [
    "df1['InitialMargin'] = df1['InitialMargin'].str.replace('$','')\n",
    "df1['InitialMargin'] = df1['InitialMargin'].str.replace(',','')\n",
    "df1.InitialMargin = pd.to_numeric(df1.InitialMargin)\n",
    "df1['DayTradeMargin'] = df1.apply(lambda x: x['InitialMargin']*0.25 if x['DayTradeRate'] == '25% of initial' else 0, axis=1)\n",
    "df1['DayTradeMargin'] = df1.apply(lambda x: x['InitialMargin']*0.50 if x['DayTradeRate'] == '50% of initial' else 0, axis=1)\n",
    "df1['InitialMargin'] = pd.to_numeric(df1['InitialMargin']).apply(lambda x: \"${:,}\".format(x))\n",
    "df1['DayTradeMargin'] = pd.to_numeric(df1['DayTradeMargin']).apply(lambda x: \"${0:,.2f}\".format(x))"
   ]
  },
  {
   "cell_type": "code",
   "execution_count": 6,
   "metadata": {},
   "outputs": [],
   "source": [
    "df1.to_excel(\"marginrates.xlsx\")"
   ]
  },
  {
   "cell_type": "code",
   "execution_count": 7,
   "metadata": {},
   "outputs": [
    {
     "data": {
      "text/plain": [
       "'$13,200'"
      ]
     },
     "execution_count": 7,
     "metadata": {},
     "output_type": "execute_result"
    }
   ],
   "source": [
    "df1.loc['ES']['InitialMargin']"
   ]
  },
  {
   "cell_type": "code",
   "execution_count": 8,
   "metadata": {},
   "outputs": [
    {
     "data": {
      "text/html": [
       "<div>\n",
       "<style scoped>\n",
       "    .dataframe tbody tr th:only-of-type {\n",
       "        vertical-align: middle;\n",
       "    }\n",
       "\n",
       "    .dataframe tbody tr th {\n",
       "        vertical-align: top;\n",
       "    }\n",
       "\n",
       "    .dataframe thead th {\n",
       "        text-align: right;\n",
       "    }\n",
       "</style>\n",
       "<table border=\"1\" class=\"dataframe\">\n",
       "  <thead>\n",
       "    <tr style=\"text-align: right;\">\n",
       "      <th></th>\n",
       "      <th>Description</th>\n",
       "      <th>InitialMargin</th>\n",
       "      <th>MaintMargin</th>\n",
       "      <th>DayTradeRate</th>\n",
       "      <th>DayTradeMargin</th>\n",
       "    </tr>\n",
       "    <tr>\n",
       "      <th>Symbol</th>\n",
       "      <th></th>\n",
       "      <th></th>\n",
       "      <th></th>\n",
       "      <th></th>\n",
       "      <th></th>\n",
       "    </tr>\n",
       "  </thead>\n",
       "  <tbody>\n",
       "    <tr>\n",
       "      <th>ES</th>\n",
       "      <td>E-MINI S&amp;P 500</td>\n",
       "      <td>$13,200</td>\n",
       "      <td>$12,000</td>\n",
       "      <td>25% of initial</td>\n",
       "      <td>$0.00</td>\n",
       "    </tr>\n",
       "    <tr>\n",
       "      <th>EMD</th>\n",
       "      <td>E-MINI MIDCAP 400</td>\n",
       "      <td>$18,700</td>\n",
       "      <td>$17,000</td>\n",
       "      <td>NONE</td>\n",
       "      <td>$0.00</td>\n",
       "    </tr>\n",
       "    <tr>\n",
       "      <th>NQ</th>\n",
       "      <td>E-MINI NASDAQ 100</td>\n",
       "      <td>$16,500</td>\n",
       "      <td>$15,000</td>\n",
       "      <td>25% of initial</td>\n",
       "      <td>$0.00</td>\n",
       "    </tr>\n",
       "    <tr>\n",
       "      <th>RTY</th>\n",
       "      <td>MINI RUSSELL 2000 (CME)</td>\n",
       "      <td>$7,810</td>\n",
       "      <td>$7,100</td>\n",
       "      <td>25% of initial</td>\n",
       "      <td>$0.00</td>\n",
       "    </tr>\n",
       "    <tr>\n",
       "      <th>YM</th>\n",
       "      <td>MINI DOW JONES ($5)</td>\n",
       "      <td>$13,200</td>\n",
       "      <td>$12,000</td>\n",
       "      <td>25% of initial</td>\n",
       "      <td>$0.00</td>\n",
       "    </tr>\n",
       "    <tr>\n",
       "      <th>...</th>\n",
       "      <td>...</td>\n",
       "      <td>...</td>\n",
       "      <td>...</td>\n",
       "      <td>...</td>\n",
       "      <td>...</td>\n",
       "    </tr>\n",
       "    <tr>\n",
       "      <th>CT</th>\n",
       "      <td>COTTON</td>\n",
       "      <td>$2,915</td>\n",
       "      <td>$2,650</td>\n",
       "      <td>NONE</td>\n",
       "      <td>$0.00</td>\n",
       "    </tr>\n",
       "    <tr>\n",
       "      <th>OJ</th>\n",
       "      <td>FROZEN OJ</td>\n",
       "      <td>$1,386</td>\n",
       "      <td>$1,260</td>\n",
       "      <td>NONE</td>\n",
       "      <td>$0.00</td>\n",
       "    </tr>\n",
       "    <tr>\n",
       "      <th>CC</th>\n",
       "      <td>COCOA</td>\n",
       "      <td>$2,090</td>\n",
       "      <td>$1,900</td>\n",
       "      <td>NONE</td>\n",
       "      <td>$0.00</td>\n",
       "    </tr>\n",
       "    <tr>\n",
       "      <th>SB</th>\n",
       "      <td>SUGAR #11</td>\n",
       "      <td>$1,074</td>\n",
       "      <td>$952</td>\n",
       "      <td>NONE</td>\n",
       "      <td>$0.00</td>\n",
       "    </tr>\n",
       "    <tr>\n",
       "      <th>LB</th>\n",
       "      <td>LUMBER (CME)</td>\n",
       "      <td>$3,850</td>\n",
       "      <td>$3,500</td>\n",
       "      <td>NONE</td>\n",
       "      <td>$0.00</td>\n",
       "    </tr>\n",
       "  </tbody>\n",
       "</table>\n",
       "<p>75 rows × 5 columns</p>\n",
       "</div>"
      ],
      "text/plain": [
       "                    Description InitialMargin MaintMargin    DayTradeRate  \\\n",
       "Symbol                                                                      \n",
       "ES               E-MINI S&P 500       $13,200     $12,000  25% of initial   \n",
       "EMD           E-MINI MIDCAP 400       $18,700     $17,000            NONE   \n",
       "NQ            E-MINI NASDAQ 100       $16,500     $15,000  25% of initial   \n",
       "RTY     MINI RUSSELL 2000 (CME)        $7,810      $7,100  25% of initial   \n",
       "YM          MINI DOW JONES ($5)       $13,200     $12,000  25% of initial   \n",
       "...                         ...           ...         ...             ...   \n",
       "CT                       COTTON        $2,915      $2,650            NONE   \n",
       "OJ                    FROZEN OJ        $1,386      $1,260            NONE   \n",
       "CC                        COCOA        $2,090      $1,900            NONE   \n",
       "SB                    SUGAR #11        $1,074        $952            NONE   \n",
       "LB                 LUMBER (CME)        $3,850      $3,500            NONE   \n",
       "\n",
       "       DayTradeMargin  \n",
       "Symbol                 \n",
       "ES              $0.00  \n",
       "EMD             $0.00  \n",
       "NQ              $0.00  \n",
       "RTY             $0.00  \n",
       "YM              $0.00  \n",
       "...               ...  \n",
       "CT              $0.00  \n",
       "OJ              $0.00  \n",
       "CC              $0.00  \n",
       "SB              $0.00  \n",
       "LB              $0.00  \n",
       "\n",
       "[75 rows x 5 columns]"
      ]
     },
     "execution_count": 8,
     "metadata": {},
     "output_type": "execute_result"
    }
   ],
   "source": [
    "df1"
   ]
  },
  {
   "cell_type": "code",
   "execution_count": null,
   "metadata": {},
   "outputs": [],
   "source": []
  },
  {
   "cell_type": "code",
   "execution_count": null,
   "metadata": {},
   "outputs": [],
   "source": []
  }
 ],
 "metadata": {
  "kernelspec": {
   "display_name": "Python 3",
   "language": "python",
   "name": "python3"
  },
  "language_info": {
   "codemirror_mode": {
    "name": "ipython",
    "version": 3
   },
   "file_extension": ".py",
   "mimetype": "text/x-python",
   "name": "python",
   "nbconvert_exporter": "python",
   "pygments_lexer": "ipython3",
   "version": "3.7.7"
  }
 },
 "nbformat": 4,
 "nbformat_minor": 4
}
